{
    "cells": [
        {
            "cell_type": "markdown",
            "metadata": {
                "azdata_cell_guid": "46697e41-3c58-43d1-ad9a-56611f2b92b4",
                "id": "zJLtsQobpd0R"
            },
            "source": [
                "<center>\n",
                "<h1><b>Classification tasks with Azure Open AI</b>\n",
                "</center>"
            ]
        },
        {
            "cell_type": "markdown",
            "metadata": {
                "azdata_cell_guid": "1f06d5cb-8efe-4827-a6c1-116f47da68a0",
                "id": "w_lddF6ADKJ5"
            },
            "source": [
                "# Introduction\n",
                "\n",
                "Welcome! In this MLS, we are going to look into the E-commerce aggregators business. Aggregator platforms face multiple challenges due to their unorganised nature. One such problem is the task of categorising products. Since the sellers on the platform aren't organised, they tend to mislabel some of their products. This leads to confusion in the customers leading to dissatisfaction and ultimately revenue loss. The management had tried to educate the sellers on labelling through hand-outs however, that hasn't been successfull. So they are looking to automate labeling using AI.\n",
                "\n",
                "**Task 1: Auto-Labelling System**\n",
                "\n",
                "Initially, our focus is on categories with the highest incidence of mislabeling. Currently, we are facing a 27% mislabeling in the system. One of the reasons this is happening is because there are a lot of common words between the skin care and hair care categories. Both of them have words like oil, powder, wash, etc. It is also confusing as sometimes products for body hair can be categorised as skin care and other times as hair care. Similarly, products for scalp can be basketed into skin care or hair care.Our job is to reduce this as much as possible.\n",
                "\n",
                "1. Skin Care\n",
                "2. Hair Care"
            ]
        },
        {
            "cell_type": "markdown",
            "metadata": {
                "azdata_cell_guid": "8a1fbdab-3895-4675-8e89-24a2ca6691bf",
                "id": "kNCeIToJPahi"
            },
            "source": [
                "**Task 2: Customer Intent Analysis**\n",
                "\n",
                "Management also has received concerns about the usability of the website. They aim to enhance the user experience on our platform by gaining insights into the problems customers are facing. One good source of understanding where customers are having trouble is by looking at the concerns raised by customers with call support. Understanding customer intent in chat support messages will inform the management where improvements are needed in the platform's UI/UX, making navigation and usage more intuitive.\n",
                "\n",
                "The data science team is entrusted with classifying customer intent into the relevant categories.\n",
                "\n",
                "Due to resource constraints, we must utilize a small dataset for model training.\n"
            ]
        },
        {
            "cell_type": "markdown",
            "metadata": {
                "azdata_cell_guid": "292af8f8-a88a-45b9-907d-2065206c63e0",
                "id": "foi0sYHaQm1A"
            },
            "source": [
                "Let's start by setting up our code environment."
            ]
        },
        {
            "cell_type": "markdown",
            "metadata": {
                "azdata_cell_guid": "472ada41-68f8-4d1a-ac2a-5cc3860e9016",
                "id": "0zTC8qPRPahk"
            },
            "source": [
                "## Setup"
            ]
        },
        {
            "cell_type": "markdown",
            "metadata": {
                "azdata_cell_guid": "58a25803-bad2-46e7-bcd1-a2806e596c36",
                "id": "ykLYC3zzSr8z"
            },
            "source": [
                "## Installation"
            ]
        },
        {
            "cell_type": "code",
            "execution_count": null,
            "metadata": {
                "azdata_cell_guid": "fa4ca472-bdd1-43d9-aa66-16a4912370d2",
                "colab": {
                    "base_uri": "https://localhost:8080/"
                },
                "id": "9b23OfNvStm-",
                "language": "sql",
                "outputId": "f646b324-f132-4cbf-9fbc-8a3da6ca9e9f",
                "vscode": {
                    "languageId": "sql"
                }
            },
            "outputs": [],
            "source": [
                "!pip install openai==1.2.0 tiktoken datasets session-info --quiet"
            ]
        },
        {
            "cell_type": "markdown",
            "metadata": {
                "azdata_cell_guid": "ccaac3ac-4c1a-4241-96f4-78230a73ef17",
                "id": "YFZj9kr8Pahl"
            },
            "source": [
                "## Imports"
            ]
        },
        {
            "cell_type": "code",
            "execution_count": null,
            "metadata": {
                "azdata_cell_guid": "19abc341-6763-4ca2-87bc-779ccaa64c89",
                "id": "Q3gwxSqQPahl",
                "language": "sql",
                "vscode": {
                    "languageId": "sql"
                }
            },
            "outputs": [],
            "source": [
                "# Import all Python packages required to access the Azure Open AI API.\n",
                "# Import additional packages required to access datasets and create examples.\n",
                "\n",
                "import json\n",
                "import random\n",
                "import tiktoken\n",
                "import session_info\n",
                "\n",
                "import pandas as pd\n",
                "import numpy as np\n",
                "\n",
                "from openai import AzureOpenAI\n",
                "\n",
                "from datasets import load_dataset\n",
                "from collections import Counter\n",
                "from tqdm import tqdm\n",
                "from sklearn.model_selection import train_test_split\n",
                "from sklearn.metrics import accuracy_score"
            ]
        },
        {
            "cell_type": "markdown",
            "metadata": {
                "azdata_cell_guid": "1c96ad8e-9e90-43ca-8a08-4f08f9a7ad2d",
                "id": "SN0wIDUjPahn"
            },
            "source": [
                "## Authentication"
            ]
        },
        {
            "cell_type": "code",
            "execution_count": null,
            "metadata": {
                "azdata_cell_guid": "60a00636-b120-4946-9028-81e2d5d339b2",
                "id": "cxLhZIviPahn",
                "language": "sql",
                "vscode": {
                    "languageId": "sql"
                }
            },
            "outputs": [],
            "source": [
                "with open('config_v1_2.json', 'r') as az_creds:\n",
                "    data = az_creds.read()"
            ]
        },
        {
            "cell_type": "code",
            "execution_count": null,
            "metadata": {
                "azdata_cell_guid": "0fe596cc-56d4-462e-bc74-a6b9a14a70d5",
                "id": "nL9GpBEVPahn",
                "language": "sql",
                "vscode": {
                    "languageId": "sql"
                }
            },
            "outputs": [],
            "source": [
                "creds = json.loads(data)"
            ]
        },
        {
            "cell_type": "code",
            "execution_count": null,
            "metadata": {
                "azdata_cell_guid": "87ea8a51-4ab5-4544-9018-147ec514af7c",
                "id": "pSaJqJC0YyDK",
                "language": "sql",
                "vscode": {
                    "languageId": "sql"
                }
            },
            "outputs": [],
            "source": [
                "client = AzureOpenAI(\n",
                "    azure_endpoint=creds[\"AZURE_OPENAI_ENDPOINT\"],\n",
                "    api_key=creds[\"AZURE_OPENAI_KEY\"],\n",
                "    api_version=creds[\"AZURE_OPENAI_APIVERSION\"]\n",
                ")"
            ]
        },
        {
            "cell_type": "code",
            "execution_count": null,
            "metadata": {
                "azdata_cell_guid": "4cf4ee39-46b2-4c6d-a714-b34617d2fcaa",
                "id": "Atf3l2mNPahp",
                "language": "sql",
                "vscode": {
                    "languageId": "sql"
                }
            },
            "outputs": [],
            "source": [
                "deployment_name = creds[\"CHATGPT_MODEL\"]"
            ]
        },
        {
            "cell_type": "markdown",
            "metadata": {
                "azdata_cell_guid": "8add4188-246f-4e95-a347-d81ae9771004",
                "id": "HQpkd5elTMhd"
            },
            "source": [
                "## Utilities"
            ]
        },
        {
            "cell_type": "markdown",
            "metadata": {
                "azdata_cell_guid": "f13674cc-d3d4-481b-839d-8b247a3782ef",
                "id": "QZixg_xITN8s"
            },
            "source": [
                "While developing the solution, we need to be mindful of the costs it will incurr for the business. Even a good solution that comes at a high cost is not useful for the business. For LLMs, costs are associated with the number of tokens consumed. Let's create a function using tiktoken to understand the number of tokens we are using in each of out prompts. This information will be cruicial while deciding the final technique we are going to use to solve the problem."
            ]
        },
        {
            "cell_type": "code",
            "execution_count": null,
            "metadata": {
                "azdata_cell_guid": "51b8ca67-198c-4df2-89e5-2a2a3e873e5d",
                "id": "V5Gp-_CxPahp",
                "language": "sql",
                "vscode": {
                    "languageId": "sql"
                }
            },
            "outputs": [],
            "source": [
                "def num_tokens_from_messages(messages):\n",
                "\n",
                "    \"\"\"\n",
                "    Return the number of tokens used by a list of messages.\n",
                "    Adapted from the Open AI cookbook token counter\n",
                "    \"\"\"\n",
                "\n",
                "    encoding = tiktoken.encoding_for_model(\"gpt-3.5-turbo\")\n",
                "\n",
                "    # Each message is sandwiched with <|start|>role and <|end|>\n",
                "    # Hence, messages look like: <|start|>system or user or assistant{message}<|end|>\n",
                "\n",
                "    tokens_per_message = 3 # token1:<|start|>, token2:system(or user or assistant), token3:<|end|>\n",
                "\n",
                "    num_tokens = 0\n",
                "\n",
                "    for message in messages:\n",
                "        num_tokens += tokens_per_message\n",
                "        for key, value in message.items():\n",
                "            num_tokens += len(encoding.encode(value))\n",
                "\n",
                "    num_tokens += 3  # every reply is primed with <|start|>assistant<|message|>\n",
                "\n",
                "    return num_tokens"
            ]
        },
        {
            "cell_type": "markdown",
            "metadata": {
                "azdata_cell_guid": "b6609039-a30d-48a0-af11-d7ff1ca5998d",
                "id": "3sP7s5TDPahq"
            },
            "source": [
                "## Task 1: Auto-Label Classificaation"
            ]
        },
        {
            "cell_type": "markdown",
            "metadata": {
                "azdata_cell_guid": "9de7b926-8f60-4f68-969a-777d8c22bb11",
                "id": "4NkdNjY3DdgD"
            },
            "source": [
                "Let's have a look at the data and get a feel of it."
            ]
        },
        {
            "cell_type": "markdown",
            "metadata": {
                "azdata_cell_guid": "2e20f2f5-50c3-40fc-84b0-d9b35b1d349e",
                "id": "wH4wcUNaR83t"
            },
            "source": [
                "### Preparing Data"
            ]
        },
        {
            "cell_type": "code",
            "execution_count": null,
            "metadata": {
                "azdata_cell_guid": "e8acf6d8-9f76-4f5b-90a3-dd2c80548e55",
                "id": "qzvme58ISAk6",
                "language": "sql",
                "vscode": {
                    "languageId": "sql"
                }
            },
            "outputs": [],
            "source": [
                "data = pd.read_csv(\"auto-labelling.csv\")"
            ]
        },
        {
            "cell_type": "code",
            "execution_count": null,
            "metadata": {
                "azdata_cell_guid": "daa7c3e3-3770-4aa1-8f15-08fb38b371ff",
                "colab": {
                    "base_uri": "https://localhost:8080/",
                    "height": 363
                },
                "id": "oeSQHKNkVoiC",
                "language": "sql",
                "outputId": "f3d0bb44-628a-4c32-b622-c1c1cb550d4a",
                "vscode": {
                    "languageId": "sql"
                }
            },
            "outputs": [],
            "source": [
                "data.head(10)"
            ]
        },
        {
            "cell_type": "code",
            "execution_count": null,
            "metadata": {
                "azdata_cell_guid": "730e850b-10a2-480d-8197-0632610e749e",
                "colab": {
                    "base_uri": "https://localhost:8080/"
                },
                "id": "Gd7GgpUt9AE4",
                "language": "sql",
                "outputId": "c3842305-71cb-4e1f-dd7a-afbbd6b9ae5c",
                "vscode": {
                    "languageId": "sql"
                }
            },
            "outputs": [],
            "source": [
                "data.Category.value_counts()"
            ]
        },
        {
            "cell_type": "markdown",
            "metadata": {
                "azdata_cell_guid": "d27a3971-231c-426e-90f0-f60c3089df1c",
                "id": "pnwTt-Jt3pp5"
            },
            "source": [
                "Note how the dataset is evenly balanced with equal number of reviews assembled for each of the category. This makes our life easy."
            ]
        },
        {
            "cell_type": "markdown",
            "metadata": {
                "azdata_cell_guid": "f8bab93f-e9c9-4a46-a2df-96c753ee1f6f",
                "id": "hPHHq5_fImow"
            },
            "source": [
                "Since this is a classification exercise with a balanced dataset, we can use accuracy as our metric. We need to also be mindful of the tokens consumed for each prompt as this is going to be a perpetual task for the business as new products are added everyday."
            ]
        },
        {
            "cell_type": "markdown",
            "metadata": {
                "azdata_cell_guid": "660aa5aa-0721-483d-bfbb-685e8189d3ad",
                "id": "Y8uqAOkAJEOt"
            },
            "source": [
                "#### Test and Train Split"
            ]
        },
        {
            "cell_type": "markdown",
            "metadata": {
                "azdata_cell_guid": "aa6021ca-f2be-4511-a00c-c41587ead681",
                "id": "NoDGl2mc4UrU"
            },
            "source": [
                "Let us split the data into two segments - one segment that gives us a pool to draw few-shot examples from and another segment that gives us a pool of gold examples which will be used for testing."
            ]
        },
        {
            "cell_type": "markdown",
            "metadata": {
                "azdata_cell_guid": "eebe3b93-0e02-4be4-b21f-ca7ce969b275",
                "id": "uOOoD0Skm8d2"
            },
            "source": [
                "In summary, we extract a dataset from a corpus by processing required fields. Each example should contain the text input and an annotated label. Once we create examples and gold examples from this dataset, this curated dataset is stored in a format appropriate for reuse (e.g., JSON)."
            ]
        },
        {
            "cell_type": "markdown",
            "metadata": {
                "azdata_cell_guid": "3e04fcde-82ad-4bed-be0e-39c56885cd02",
                "id": "2ExVGFPl4tdx"
            },
            "source": [
                "To select gold examples for this session, we sample randomly from the test data using a `random_state=42`. This ensures that the examples from multiple runs of the sampling are the same (i.e., they are randomly selected but do not change between different runs of the notebook). Note that we are doing this only to keep execution times low for illustration. In practise, large number of gold examples facilitate robust estimates of model accuracy."
            ]
        },
        {
            "cell_type": "code",
            "execution_count": null,
            "metadata": {
                "azdata_cell_guid": "695bcaf6-3507-4309-bdf0-28bd5b5c1a97",
                "id": "dkXtXbc9N5rC",
                "language": "sql",
                "vscode": {
                    "languageId": "sql"
                }
            },
            "outputs": [],
            "source": [
                "examples_df, gold_examples_df = train_test_split(\n",
                "    data, #<- the full dataset\n",
                "    test_size=0.8, #<- 80% random sample selected for gold examples\n",
                "    random_state=42, #<- ensures that the splits are the same for every session\n",
                "    stratify=data['Category'] #<- ensures equal distribution of labels\n",
                ")"
            ]
        },
        {
            "cell_type": "code",
            "execution_count": null,
            "metadata": {
                "azdata_cell_guid": "531cd4f4-2875-41f6-b612-38917c0b9a58",
                "id": "UpeZL2989746",
                "language": "sql",
                "vscode": {
                    "languageId": "sql"
                }
            },
            "outputs": [],
            "source": [
                "gold_examples = (\n",
                "        gold_examples_df.to_json(orient='records')\n",
                ")"
            ]
        },
        {
            "cell_type": "code",
            "execution_count": null,
            "metadata": {
                "azdata_cell_guid": "8e14cc8e-53df-4b51-ad68-8140720cd322",
                "colab": {
                    "base_uri": "https://localhost:8080/"
                },
                "id": "bGSj2dfZOMW-",
                "language": "sql",
                "outputId": "a03932bd-7222-4a0d-a991-9bb3ea1b6004",
                "vscode": {
                    "languageId": "sql"
                }
            },
            "outputs": [],
            "source": [
                "(examples_df.shape, gold_examples_df.shape)"
            ]
        },
        {
            "cell_type": "code",
            "execution_count": null,
            "metadata": {
                "azdata_cell_guid": "643c19d6-c5c3-4230-b855-98c1cd9d3bfe",
                "colab": {
                    "base_uri": "https://localhost:8080/",
                    "height": 143
                },
                "id": "r8J58KMMM95s",
                "language": "sql",
                "outputId": "dca725f6-a267-46fa-8424-11fb2bccaa0a",
                "vscode": {
                    "languageId": "sql"
                }
            },
            "outputs": [],
            "source": [
                "gold_examples_df.head(3)"
            ]
        },
        {
            "cell_type": "markdown",
            "metadata": {
                "azdata_cell_guid": "0c44d999-29b1-4b0b-bbf2-392a174b1023",
                "id": "RHcvbwDcJKZF"
            },
            "source": [
                "With everything setup, let's start working on our prompts."
            ]
        },
        {
            "cell_type": "markdown",
            "metadata": {
                "azdata_cell_guid": "960b2769-cb87-442a-a4ab-7c00e9b19328",
                "id": "ZPsU-h8FPaht"
            },
            "source": [
                "### Step 3: Derive Prompt"
            ]
        },
        {
            "cell_type": "markdown",
            "metadata": {
                "azdata_cell_guid": "720fa836-b9e7-483f-b14d-390b3516991b",
                "id": "X3uS8NWfNqBG"
            },
            "source": [
                "#### Create prompts"
            ]
        },
        {
            "cell_type": "code",
            "execution_count": null,
            "metadata": {
                "azdata_cell_guid": "1b227a3a-e039-47fc-b522-53130399e74a",
                "id": "NfDUKbCgPahu",
                "language": "sql",
                "vscode": {
                    "languageId": "sql"
                }
            },
            "outputs": [],
            "source": [
                "user_message_template = \"\"\"```{product_description}```\"\"\""
            ]
        },
        {
            "cell_type": "markdown",
            "metadata": {
                "azdata_cell_guid": "db8beff3-c1a1-4cde-9f38-bd936f6ed23c",
                "id": "Sxwq7qwrwLwn"
            },
            "source": [
                "Let's create a zero-shot prompt for this scenario. We need to make sure that LLM outputs only the category label and not explanation. So, let's add explicit instructions for that."
            ]
        },
        {
            "cell_type": "markdown",
            "metadata": {
                "azdata_cell_guid": "0fa669a6-9f11-4687-b5e5-a2a1195db131",
                "id": "w8RoXc0qJW0l"
            },
            "source": [
                "**Prompt 1: Zero-shot**"
            ]
        },
        {
            "cell_type": "code",
            "execution_count": null,
            "metadata": {
                "azdata_cell_guid": "a3d637bd-6efd-4bf0-9e31-543006874098",
                "id": "J79_IaxHJdY2",
                "language": "sql",
                "vscode": {
                    "languageId": "sql"
                }
            },
            "outputs": [],
            "source": [
                "zero_shot_system_message = \"\"\"\n",
                "Classify the following product desciption presented in the input into one of the following categories.\n",
                "Categories - ['Hair Care', 'Skin Care']\n",
                "Product description will be delimited by triple backticks in the input.\n",
                "Answer only 'Hair Care' or 'Skin Care'. Nothing Else. Do not explain your answer.\n",
                "\"\"\""
            ]
        },
        {
            "cell_type": "code",
            "execution_count": null,
            "metadata": {
                "azdata_cell_guid": "fb563136-b073-4b11-84e7-fe344b22ff8b",
                "id": "t8cjNjiJJpzc",
                "language": "sql",
                "vscode": {
                    "languageId": "sql"
                }
            },
            "outputs": [],
            "source": [
                "zero_shot_prompt = [{'role':'system', 'content': zero_shot_system_message}]"
            ]
        },
        {
            "cell_type": "markdown",
            "metadata": {
                "azdata_cell_guid": "a32955b9-b24d-4d15-84d9-ec63d96c993a",
                "id": "viKiMpevxVbC"
            },
            "source": [
                "Let's check the number of tokens this prompt consumes."
            ]
        },
        {
            "cell_type": "code",
            "execution_count": null,
            "metadata": {
                "azdata_cell_guid": "dae71fe2-d603-435c-80b9-256976fc2f49",
                "colab": {
                    "base_uri": "https://localhost:8080/"
                },
                "id": "xlbBt1u_OJEz",
                "language": "sql",
                "outputId": "6f464e01-6d05-4e5a-c8f3-448703e3bfe4",
                "vscode": {
                    "languageId": "sql"
                }
            },
            "outputs": [],
            "source": [
                "num_tokens_from_messages(zero_shot_prompt)"
            ]
        },
        {
            "cell_type": "markdown",
            "metadata": {
                "azdata_cell_guid": "d7281da9-90a8-4dc2-af7c-a63469274591",
                "id": "_ubtoVTCIKUm"
            },
            "source": [
                "**Let's try our zero-shot prompt on a single example.**"
            ]
        },
        {
            "cell_type": "code",
            "execution_count": null,
            "metadata": {
                "azdata_cell_guid": "8d856f0b-4fa4-4d34-8240-47c844042e6b",
                "colab": {
                    "base_uri": "https://localhost:8080/"
                },
                "id": "tT2xnIrNJS-9",
                "language": "sql",
                "outputId": "f4ec120f-8435-4050-9727-9a6b51f73486",
                "vscode": {
                    "languageId": "sql"
                }
            },
            "outputs": [],
            "source": [
                "data.iloc[0,:]"
            ]
        },
        {
            "cell_type": "code",
            "execution_count": null,
            "metadata": {
                "azdata_cell_guid": "ed635d59-77dd-4bf4-8126-cd818eee9ef4",
                "id": "RfjpbkGgIr4e",
                "language": "sql",
                "vscode": {
                    "languageId": "sql"
                }
            },
            "outputs": [],
            "source": [
                "input_description = data.iloc[0,0]\n",
                "\n",
                "user_input = [\n",
                "    {\n",
                "        'role':'user',\n",
                "        'content': user_message_template.format(product_description = input_description)\n",
                "    }\n",
                "]"
            ]
        },
        {
            "cell_type": "markdown",
            "metadata": {
                "azdata_cell_guid": "0200c053-f2fe-490f-b1b9-f07579893612",
                "id": "oNZm6BWTyWzx"
            },
            "source": [
                "Let's also cap the max_token parameter to 4 so that the model doesn't output explanations. We are capping it at 4 instead of 2 because we want to leave a little lee-way for punctuation marks and sub-words token that the model might output in the middle of the text. It is better to use regex later than to prematurely over-constrain the LLM output."
            ]
        },
        {
            "cell_type": "code",
            "execution_count": null,
            "metadata": {
                "azdata_cell_guid": "05b1ffe4-3274-4a57-b0ee-92bb8f050bd3",
                "colab": {
                    "base_uri": "https://localhost:8080/"
                },
                "id": "p9aCct3gIP2d",
                "language": "sql",
                "outputId": "aae272a1-ef1a-4d34-e8d3-3de84c71d04d",
                "vscode": {
                    "languageId": "sql"
                }
            },
            "outputs": [],
            "source": [
                "response = client.chat.completions.create(\n",
                "    model=deployment_name,\n",
                "    messages=zero_shot_prompt+user_input,\n",
                "    temperature=0, # <- Note the low temperature\n",
                "    max_tokens=4 # <- Note how we restrict the output to not more than 2 tokens\n",
                ")\n",
                "print(response.choices[0].message.content)"
            ]
        },
        {
            "cell_type": "markdown",
            "metadata": {
                "azdata_cell_guid": "9ac264e6-55fd-46dd-9d73-60c85a5aa473",
                "id": "6dINbtNsKeYh"
            },
            "source": [
                "Great! That's a hit. Let's scale it. Let's create a generic evaluation function that can be used with all the prompting techniques that we are going to use."
            ]
        },
        {
            "cell_type": "code",
            "execution_count": null,
            "metadata": {
                "azdata_cell_guid": "b9f73ecd-a899-4f26-9ac4-845a2f8b129b",
                "id": "tnwtFBZQoSad",
                "language": "sql",
                "vscode": {
                    "languageId": "sql"
                }
            },
            "outputs": [],
            "source": [
                "def evaluate_prompt(prompt, gold_examples, user_message_template,samples_to_output = 10):\n",
                "\n",
                "    \"\"\"\n",
                "    Return the accuracy score for predictions on gold examples.\n",
                "    For each example, we make a prediction using the prompt. Gold labels and\n",
                "    model predictions are aggregated into lists and compared to compute the\n",
                "    accuracy.\n",
                "\n",
                "    Args:\n",
                "        prompt (List): list of messages in the Open AI prompt format\n",
                "        gold_examples (str): JSON string with list of gold examples\n",
                "        user_message_template (str): string with a placeholder for product description\n",
                "        samples_to_output (int): number of sample predictions and ground truths to print\n",
                "\n",
                "    Output:\n",
                "        accuracy (float): Accuracy computed by comparing model predictions\n",
                "                                with ground truth\n",
                "    \"\"\"\n",
                "\n",
                "    count =0\n",
                "    model_predictions, ground_truths = [], []\n",
                "\n",
                "    for example in json.loads(gold_examples):\n",
                "        gold_input = example['Product Description']\n",
                "        user_input = [\n",
                "            {\n",
                "                'role':'user',\n",
                "                'content': user_message_template.format(product_description=gold_input)\n",
                "            }\n",
                "        ]\n",
                "\n",
                "        try:\n",
                "            response = client.chat.completions.create(\n",
                "                model=deployment_name,\n",
                "                messages=prompt+user_input,\n",
                "                temperature=0, # <- Note the low temperature\n",
                "                max_tokens=4 # <- Note how we restrict the output to not more than 4 tokens\n",
                "            )\n",
                "\n",
                "            prediction = response.choices[0].message.content\n",
                "            # print(prediction) #uncomment to see LLM response or to debug\n",
                "            model_predictions.append(prediction.strip().lower()) # <- removes extraneous white space and lowercases output\n",
                "            ground_truths.append(example['Category'].strip().lower())\n",
                "\n",
                "            if count < samples_to_output:\n",
                "              count += 1\n",
                "              print(\"Product Description: \\n\", example['Product Description'],\"\\n\")\n",
                "              print(\"Original label: \\n\", example['Category'],\"\\n\")\n",
                "              print(\"Predicted label: \\n\", prediction)\n",
                "              print(\"====================================================\")\n",
                "\n",
                "        except Exception as e:\n",
                "            print(e)\n",
                "            continue\n",
                "\n",
                "        accuracy = accuracy_score(ground_truths, model_predictions)\n",
                "\n",
                "    return accuracy"
            ]
        },
        {
            "cell_type": "code",
            "execution_count": null,
            "metadata": {
                "azdata_cell_guid": "57317bf5-bbca-402a-b141-58aabb96cf2d",
                "colab": {
                    "base_uri": "https://localhost:8080/"
                },
                "id": "EAaZaWBxLIYl",
                "language": "sql",
                "outputId": "a404e194-9d20-4767-f9c8-5c51f720bf7f",
                "vscode": {
                    "languageId": "sql"
                }
            },
            "outputs": [],
            "source": [
                "evaluate_prompt(zero_shot_prompt, gold_examples, user_message_template)"
            ]
        },
        {
            "cell_type": "markdown",
            "metadata": {
                "azdata_cell_guid": "d048647a-4416-43c6-9ec6-f7233824c6ce",
                "id": "XRD-4UUQLKIY"
            },
            "source": [
                "Decent start. Now, let's check if few-shot can do a better job."
            ]
        },
        {
            "cell_type": "markdown",
            "metadata": {
                "azdata_cell_guid": "c5ce782d-78f0-4177-a125-68fccbbc4313",
                "id": "46AWalvrLTxs"
            },
            "source": [
                "**Prompt 2: Few-shot**"
            ]
        },
        {
            "cell_type": "markdown",
            "metadata": {
                "azdata_cell_guid": "dd9f3cf4-3bb7-42fa-957d-569828087ba7",
                "id": "rdsQv1Pz7mJE"
            },
            "source": [
                "For the few-shot prompt, there is no change in the system message compared with the zero-shot prompt. However, we augment this system message with few shot examples.  "
            ]
        },
        {
            "cell_type": "code",
            "execution_count": null,
            "metadata": {
                "azdata_cell_guid": "1f05caeb-7773-44ef-bc79-4a5df771f0c9",
                "id": "2nrW4jzGLdce",
                "language": "sql",
                "vscode": {
                    "languageId": "sql"
                }
            },
            "outputs": [],
            "source": [
                "few_shot_system_message = \"\"\"\n",
                "Classify the following product desciption presented in the input into one of the following categories.\n",
                "Categories - ['Hair Care', 'Skin Care']\n",
                "Product description will be delimited by triple backticks in the input.\n",
                "Answer only 'Hair Care' or 'Skin Care'. Do not explain your answer.\n",
                "\"\"\""
            ]
        },
        {
            "cell_type": "markdown",
            "metadata": {
                "azdata_cell_guid": "71843e6d-2dc1-421c-bed2-afba3e19280d",
                "id": "RZcz4TtHQPa2"
            },
            "source": [
                "To assemble few-shot examples, we will need to sample the required number of reviews from the training data. One approach would be to  first subset the different categories and then select samples from these subsets."
            ]
        },
        {
            "cell_type": "code",
            "execution_count": null,
            "metadata": {
                "azdata_cell_guid": "ed2e4bd4-e78e-4c92-ba81-f4d8b038861a",
                "id": "VJjyRP5IQAx4",
                "language": "sql",
                "vscode": {
                    "languageId": "sql"
                }
            },
            "outputs": [],
            "source": [
                "hc_reviews = (examples_df.Category == 'Hair Care')\n",
                "sc_reviews = (examples_df.Category == 'Skin Care')"
            ]
        },
        {
            "cell_type": "code",
            "execution_count": null,
            "metadata": {
                "azdata_cell_guid": "31f04329-cdca-4fe8-a432-86ad48c1ed31",
                "id": "cT3eeB0vPahs",
                "language": "sql",
                "vscode": {
                    "languageId": "sql"
                }
            },
            "outputs": [],
            "source": [
                "hc_examples = examples_df.loc[hc_reviews, :].sample(4)\n",
                "sc_examples = examples_df.loc[sc_reviews, :].sample(4)"
            ]
        },
        {
            "cell_type": "code",
            "execution_count": null,
            "metadata": {
                "azdata_cell_guid": "afe69f55-b46c-4917-8558-4523ca319ec9",
                "colab": {
                    "base_uri": "https://localhost:8080/",
                    "height": 175
                },
                "id": "dko5YsMaPahs",
                "language": "sql",
                "outputId": "13dc8993-77ad-446e-fa8a-4beb27147e2f",
                "vscode": {
                    "languageId": "sql"
                }
            },
            "outputs": [],
            "source": [
                "hc_examples"
            ]
        },
        {
            "cell_type": "markdown",
            "metadata": {
                "azdata_cell_guid": "e6466ae1-9e0f-42de-8810-df46b485282b",
                "id": "d3ExNtgPRDhJ"
            },
            "source": [
                "To reiterate from our learnings from the week, merely selecting random samples from the category subsets is not enough because the examples included in a prompt are prone to a set of known biases. LLMs are known to respond with the most frequent label in the examples or the labels that were given at the end of the prompt.\n",
                "\n"
            ]
        },
        {
            "cell_type": "markdown",
            "metadata": {
                "azdata_cell_guid": "39fa746d-2b29-4318-ab47-722a513970da",
                "id": "bEA_Ab2FRrYB"
            },
            "source": [
                "To avoid these biases, it is important to have a balanced set of examples that are arranged in random order. Let us create a Python function that generates bias-free examples (our function implements the workflow presented below):"
            ]
        },
        {
            "cell_type": "code",
            "execution_count": null,
            "metadata": {
                "azdata_cell_guid": "9212bee9-60ee-40ef-9839-3ad1d2e63f88",
                "id": "Qb0mLtE9R7ZA",
                "language": "sql",
                "vscode": {
                    "languageId": "sql"
                }
            },
            "outputs": [],
            "source": [
                "def create_examples(dataset, n=4):\n",
                "\n",
                "    \"\"\"\n",
                "    Return a JSON list of randomized examples of size 2n with two classes.\n",
                "    Create subsets of each class, choose random samples from the subsets,\n",
                "    merge and randomize the order of samples in the merged list.\n",
                "    Each run of this function creates a different random sample of examples\n",
                "    chosen from the training data.\n",
                "\n",
                "    Args:\n",
                "        dataset (DataFrame): A DataFrame with examples (text + label)\n",
                "        n (int): number of examples of each class to be selected\n",
                "\n",
                "    Output:\n",
                "        randomized_examples (JSON): A JSON with examples in random order\n",
                "    \"\"\"\n",
                "\n",
                "    hc_reviews = (examples_df.Category == 'Hair Care')\n",
                "    sc_reviews = (examples_df.Category == 'Skin Care')\n",
                "\n",
                "    cols_to_select = [\"Product Description\",\"Category\"]\n",
                "    hc_examples = examples_df.loc[hc_reviews, cols_to_select].sample(n)\n",
                "    sc_examples = examples_df.loc[sc_reviews, cols_to_select].sample(n)\n",
                "\n",
                "    examples = pd.concat([hc_examples,sc_examples])\n",
                "    # sampling without replacement is equivalent to random shuffling\n",
                "    randomized_examples = examples.sample(2*n, replace=False)\n",
                "\n",
                "    return randomized_examples.to_json(orient='records')"
            ]
        },
        {
            "cell_type": "code",
            "execution_count": null,
            "metadata": {
                "azdata_cell_guid": "caa8908c-ee2c-4854-b5dc-2cb3459e186d",
                "id": "jb1VpSgZPaht",
                "language": "sql",
                "vscode": {
                    "languageId": "sql"
                }
            },
            "outputs": [],
            "source": [
                "examples = create_examples(examples_df, 2)"
            ]
        },
        {
            "cell_type": "code",
            "execution_count": null,
            "metadata": {
                "azdata_cell_guid": "09ef852e-ba18-4f6b-aac7-2fcf85660322",
                "colab": {
                    "base_uri": "https://localhost:8080/"
                },
                "id": "dJInVW2PSucc",
                "language": "sql",
                "outputId": "6684c598-1cb3-48f1-b890-3fb7db83e503",
                "vscode": {
                    "languageId": "sql"
                }
            },
            "outputs": [],
            "source": [
                "json.loads(examples)"
            ]
        },
        {
            "cell_type": "markdown",
            "metadata": {
                "azdata_cell_guid": "34f1bebb-6363-4ab0-ab6b-3255aa1f0ca3",
                "id": "PEnNkOzJSwTk"
            },
            "source": [
                "Let's create a function to create few show prompt from our examples."
            ]
        },
        {
            "cell_type": "code",
            "execution_count": null,
            "metadata": {
                "azdata_cell_guid": "90399798-a2a6-4ca6-bba8-ad8574622506",
                "id": "mFK2WQOgS8ey",
                "language": "sql",
                "vscode": {
                    "languageId": "sql"
                }
            },
            "outputs": [],
            "source": [
                "def create_prompt(system_message, examples, user_message_template):\n",
                "\n",
                "    \"\"\"\n",
                "    Return a prompt message in the format expected by the Open AI API.\n",
                "    Loop through the examples and parse them as user message and assistant\n",
                "    message.\n",
                "\n",
                "    Args:\n",
                "        system_message (str): system message with instructions for classification\n",
                "        examples (str): JSON string with list of examples\n",
                "        user_message_template (str): string with a placeholder for description\n",
                "\n",
                "    Output:\n",
                "        few_shot_prompt (List): A list of dictionaries in the Open AI prompt format\n",
                "    \"\"\"\n",
                "\n",
                "    few_shot_prompt = [{'role':'system', 'content': system_message}]\n",
                "\n",
                "    for example in json.loads(examples):\n",
                "        example_description = example['Product Description']\n",
                "        example_category = example['Category']\n",
                "\n",
                "        few_shot_prompt.append(\n",
                "            {\n",
                "                'role': 'user',\n",
                "                'content': user_message_template.format(\n",
                "                    product_description=example_description\n",
                "                )\n",
                "            }\n",
                "        )\n",
                "\n",
                "        few_shot_prompt.append(\n",
                "            {'role': 'assistant', 'content': f\"{example_category}\"}\n",
                "        )\n",
                "\n",
                "    return few_shot_prompt"
            ]
        },
        {
            "cell_type": "code",
            "execution_count": null,
            "metadata": {
                "azdata_cell_guid": "1ac8121d-6fda-4316-b331-aba6f035483d",
                "id": "QoO1lCFtTBUV",
                "language": "sql",
                "vscode": {
                    "languageId": "sql"
                }
            },
            "outputs": [],
            "source": [
                "few_shot_prompt = create_prompt(\n",
                "    few_shot_system_message,\n",
                "    examples,\n",
                "    user_message_template\n",
                ")"
            ]
        },
        {
            "cell_type": "code",
            "execution_count": null,
            "metadata": {
                "azdata_cell_guid": "cebe3325-6bb6-478c-8eb5-9c3439c1ff12",
                "colab": {
                    "base_uri": "https://localhost:8080/"
                },
                "id": "sy91eq9FTNeo",
                "language": "sql",
                "outputId": "00f463bc-7e5d-4437-88e7-58e629701e08",
                "vscode": {
                    "languageId": "sql"
                }
            },
            "outputs": [],
            "source": [
                "few_shot_prompt"
            ]
        },
        {
            "cell_type": "markdown",
            "metadata": {
                "azdata_cell_guid": "6cdb5faa-9f24-4163-bbaf-537ebbea83eb",
                "id": "_MPSIcmN1XfS"
            },
            "source": [
                "The few-shot prompt is definetely heavier than the zero-shot prompt. Let's check how much more resource intensive few-shot is."
            ]
        },
        {
            "cell_type": "code",
            "execution_count": null,
            "metadata": {
                "azdata_cell_guid": "c203f99a-3021-45c1-8772-4f7e0afd227f",
                "colab": {
                    "base_uri": "https://localhost:8080/"
                },
                "id": "ItFH6zLJMnb9",
                "language": "sql",
                "outputId": "19775c4a-5cd0-4320-9912-011924a09794",
                "vscode": {
                    "languageId": "sql"
                }
            },
            "outputs": [],
            "source": [
                "num_tokens_from_messages(few_shot_prompt)"
            ]
        },
        {
            "cell_type": "markdown",
            "metadata": {
                "azdata_cell_guid": "6d0fccc7-70f1-400c-9989-d65f55c978b8",
                "id": "L4iqG_4L1miM"
            },
            "source": [
                "That is 3x more token usage than zero-shot. Unless it gives significatnly better results, zero-shot will be the preferred one."
            ]
        },
        {
            "cell_type": "code",
            "execution_count": null,
            "metadata": {
                "azdata_cell_guid": "1867ca7f-2af6-4e46-9afc-0fbbf48d3ac1",
                "colab": {
                    "base_uri": "https://localhost:8080/"
                },
                "id": "sp7awSHZVSw2",
                "language": "sql",
                "outputId": "68b05f23-939e-4368-d8e6-6a2ebe5b370a",
                "vscode": {
                    "languageId": "sql"
                }
            },
            "outputs": [],
            "source": [
                "evaluate_prompt(few_shot_prompt, gold_examples, user_message_template)"
            ]
        },
        {
            "cell_type": "markdown",
            "metadata": {
                "azdata_cell_guid": "0a482234-43c1-462c-9ccc-acbfe5d3d0a7",
                "id": "IVqpnL5i10Kp"
            },
            "source": [
                "Let's take the final call after running through all prompting techniques and after running the evaluation across multiple samples."
            ]
        },
        {
            "cell_type": "markdown",
            "metadata": {
                "azdata_cell_guid": "e8c53f75-0d4d-4530-9ce8-36af3b1f57a6",
                "id": "agDW1s7eNy-L"
            },
            "source": [
                "**Prompt 3: Chain-of-Thought**"
            ]
        },
        {
            "cell_type": "markdown",
            "metadata": {
                "azdata_cell_guid": "818f36ea-36be-4198-ab0c-7eccac5ac0f9",
                "id": "KKSPE0fT52EE"
            },
            "source": [
                "For the CoT prompt, we add detailed step-by-step instructions to the few shot system message instructing the model to carefully ponder before assigning the label. Apart from this addition, there are no further changes from the few-shot prompt."
            ]
        },
        {
            "cell_type": "code",
            "execution_count": null,
            "metadata": {
                "azdata_cell_guid": "234c873f-724f-48ff-a667-c424fde540b7",
                "id": "MqhNfIrrPaht",
                "language": "sql",
                "vscode": {
                    "languageId": "sql"
                }
            },
            "outputs": [],
            "source": [
                "cot_system_message = \"\"\"\n",
                "Given the following product description, follow these steps to determine the appropriate product label category:\n",
                "\n",
                "1. Read the product description carefully, looking for key words and phrases that indicate the product's purpose and usage.\n",
                "\n",
                "2. Consider if the description mentions any particular keywords relating to a category.\n",
                "\n",
                "3. If the description contains keywords related to multiple categories, determine which category is most strongly emphasized or which usage is primary.\n",
                "\n",
                "4. If the description does not contain any clear keywords related to the given categories, consider the overall context and purpose of the product to make an educated guess about the most appropriate category.\n",
                "\n",
                "5. Output the determined category label ( 'Hair Care', or 'Skin Care') and nothing else. Do not explain your output.\n",
                "\"\"\""
            ]
        },
        {
            "cell_type": "code",
            "execution_count": null,
            "metadata": {
                "azdata_cell_guid": "7df427b6-b4cd-4361-8b07-6d211e46fe7a",
                "id": "bUMhbkjaTjmH",
                "language": "sql",
                "vscode": {
                    "languageId": "sql"
                }
            },
            "outputs": [],
            "source": [
                "cot_few_shot_prompt = create_prompt(cot_system_message, examples, user_message_template)"
            ]
        },
        {
            "cell_type": "code",
            "execution_count": null,
            "metadata": {
                "azdata_cell_guid": "06dad028-4260-4639-8e0e-5d8874b47e26",
                "colab": {
                    "base_uri": "https://localhost:8080/"
                },
                "id": "-KroTz4iTscw",
                "language": "sql",
                "outputId": "6b81285b-2227-4960-f408-823db6d37b69",
                "vscode": {
                    "languageId": "sql"
                }
            },
            "outputs": [],
            "source": [
                "cot_few_shot_prompt"
            ]
        },
        {
            "cell_type": "markdown",
            "metadata": {
                "azdata_cell_guid": "f210df72-a6dd-4f87-8c3c-5915d7366319",
                "id": "usookJPxTkEd"
            },
            "source": [
                "Note that the examples remain the same while the system message changes."
            ]
        },
        {
            "cell_type": "code",
            "execution_count": null,
            "metadata": {
                "azdata_cell_guid": "0a26469c-cf5d-4feb-8011-7a4d995f6476",
                "colab": {
                    "base_uri": "https://localhost:8080/"
                },
                "id": "193APKHhTvq6",
                "language": "sql",
                "outputId": "f3ddf4b8-a868-47cc-a3ce-1ebd9f6c1d0c",
                "vscode": {
                    "languageId": "sql"
                }
            },
            "outputs": [],
            "source": [
                "num_tokens_from_messages(cot_few_shot_prompt)"
            ]
        },
        {
            "cell_type": "markdown",
            "metadata": {
                "azdata_cell_guid": "3bd560d9-fa13-4873-91b6-9d0f143c53f0",
                "id": "KGA93m50MTKq"
            },
            "source": [
                "We can see that token consumption per example is highest in cot_fewshot followed by fewshot and the least by zero-shot. As the business has to process a lot of products, we need to make sure the token consumption is low as openAI charges the business per token basis. Even small improvements in the token consumption while keeping the accuracies can have a huge impact."
            ]
        },
        {
            "cell_type": "markdown",
            "metadata": {
                "azdata_cell_guid": "23fbd367-3a26-4e54-a9c7-653b37087186",
                "id": "IqmO_biiNZd-"
            },
            "source": [
                "Let's check the cot-fewshot prompt and see if it's worth the token it is consuming."
            ]
        },
        {
            "cell_type": "code",
            "execution_count": null,
            "metadata": {
                "azdata_cell_guid": "646f5eb1-d3c5-4cf8-a031-28a0c10357ec",
                "colab": {
                    "base_uri": "https://localhost:8080/"
                },
                "id": "QgzKAGQYNWar",
                "language": "sql",
                "outputId": "e6028002-d4dc-4198-f77d-7b52f575ee28",
                "vscode": {
                    "languageId": "sql"
                }
            },
            "outputs": [],
            "source": [
                "evaluate_prompt(cot_few_shot_prompt, gold_examples, user_message_template)"
            ]
        },
        {
            "cell_type": "markdown",
            "metadata": {
                "azdata_cell_guid": "670b2ad2-9f3b-4161-bb7b-353807d59f5d",
                "id": "vBh9D96BVRjb"
            },
            "source": [
                "We have done evaluations of all three pormpting techniques. Now, let's sample different examples for the few-shot and CoT-few-shot prompts and evaluate them across multiple samples."
            ]
        },
        {
            "cell_type": "code",
            "execution_count": null,
            "metadata": {
                "azdata_cell_guid": "c31c89c9-e34e-4021-94a8-355c2f6c29a6",
                "id": "GTXUDXYy7dku",
                "language": "sql",
                "vscode": {
                    "languageId": "sql"
                }
            },
            "outputs": [],
            "source": [
                "num_eval_runs = 5"
            ]
        },
        {
            "cell_type": "code",
            "execution_count": null,
            "metadata": {
                "azdata_cell_guid": "912b3b3d-cce7-44bd-a2aa-c2c212032e8e",
                "id": "n6pQkocytqG_",
                "language": "sql",
                "vscode": {
                    "languageId": "sql"
                }
            },
            "outputs": [],
            "source": [
                "few_shot_performance, cot_few_shot_performance = [], []"
            ]
        },
        {
            "cell_type": "code",
            "execution_count": null,
            "metadata": {
                "azdata_cell_guid": "20f9396f-510d-4e0e-a518-0b5e4c663a35",
                "colab": {
                    "base_uri": "https://localhost:8080/"
                },
                "id": "BdUaodX3tseE",
                "language": "sql",
                "outputId": "b81bca36-b626-4a2d-febe-e6ccff529046",
                "vscode": {
                    "languageId": "sql"
                }
            },
            "outputs": [],
            "source": [
                "for _ in tqdm(range(num_eval_runs)):\n",
                "\n",
                "    # For each run create a new sample of examples\n",
                "    examples = create_examples(examples_df)\n",
                "\n",
                "    # Assemble the few shot prompt with these examples\n",
                "    few_shot_prompt = create_prompt(few_shot_system_message, examples, user_message_template)\n",
                "    cot_few_shot_prompt = create_prompt(cot_system_message, examples, user_message_template)\n",
                "\n",
                "    # Evaluate prompt accuracy on gold examples\n",
                "    few_shot_accuracy = evaluate_prompt(few_shot_prompt, gold_examples, user_message_template)\n",
                "    cot_few_shot_accuracy = evaluate_prompt(cot_few_shot_prompt, gold_examples, user_message_template)\n",
                "\n",
                "    few_shot_performance.append(few_shot_accuracy)\n",
                "    cot_few_shot_performance.append(cot_few_shot_accuracy)"
            ]
        },
        {
            "cell_type": "code",
            "execution_count": null,
            "metadata": {
                "azdata_cell_guid": "d62bc059-4c9e-4f00-9aa3-64d0df1b5bd0",
                "colab": {
                    "base_uri": "https://localhost:8080/"
                },
                "id": "ZikcR8oGrWls",
                "language": "sql",
                "outputId": "224fcd28-4621-47cc-ce7a-89b978232609",
                "vscode": {
                    "languageId": "sql"
                }
            },
            "outputs": [],
            "source": [
                "np.array(few_shot_performance).mean(), np.array(few_shot_performance).std()"
            ]
        },
        {
            "cell_type": "code",
            "execution_count": null,
            "metadata": {
                "azdata_cell_guid": "6246dfa9-1543-459e-adb1-f848ac29f9c8",
                "colab": {
                    "base_uri": "https://localhost:8080/"
                },
                "id": "D-GYUYGkuQY7",
                "language": "sql",
                "outputId": "d83be751-b48c-401d-bfa6-ace10f49eb4b",
                "vscode": {
                    "languageId": "sql"
                }
            },
            "outputs": [],
            "source": [
                "np.array(cot_few_shot_performance).mean(), np.array(cot_few_shot_performance).std()"
            ]
        },
        {
            "cell_type": "markdown",
            "metadata": {
                "azdata_cell_guid": "b4c6bf62-1f09-46e0-8cd6-b2b77ce158e7"
            },
            "source": [
                "Both of them are consistent across iterations."
            ]
        },
        {
            "cell_type": "markdown",
            "metadata": {
                "azdata_cell_guid": "51cce8f5-ea39-46e2-8249-7a53b14e04e7",
                "id": "txhTHxZjVoGg"
            },
            "source": [
                "All of them beat the existing mis-labeling rate. We can see that both zero-shot and few-shot have out performed cot-fewshot. It is imperative for us to use zero-shot over few-shot as the accuracy scores are similar but zero-shot consumes 3X lesser tokens and hence becomes the obvious choice."
            ]
        },
        {
            "cell_type": "markdown",
            "metadata": {
                "azdata_cell_guid": "ad62461b-bbb7-449e-9ac8-439f1b290603",
                "id": "leLS3CKbPahz"
            },
            "source": [
                "## Task 2: Intent Detection"
            ]
        },
        {
            "cell_type": "markdown",
            "metadata": {
                "azdata_cell_guid": "487ce554-adb3-437a-9011-9c1960699e73",
                "id": "3J23ZILoH_Wi"
            },
            "source": [
                "Let's proceed to the second task, which involves determining customer intent from support queries. We have received a raw dataset of these queries and are required to conduct a preliminary analysis. Our goal is to identify various categories of inquiries and determine the most frequent ones. Based on this analysis, management will establish a labeling team to manually classify the queries into the top three categories, with a fourth category, 'Others,' for queries that do not fit into the top three.\n",
                "\n",
                "Following this step, we will undertake a classification task using OpenAI's tools. If the results are satisfactory (i.e., accuracy greater than 85%), we will apply the model to the entire dataset to determine the actual frequency of each category. The category with the highest occurrence will be prioritized for action.\n",
                "\n",
                "During this session, our focus will be on the initial exploration, construction, and evaluation of the classification task using a large language model (LLM)."
            ]
        },
        {
            "cell_type": "markdown",
            "metadata": {
                "azdata_cell_guid": "004382d5-5cd4-4bae-b172-7cf931979086",
                "id": "bdzr238VBhpN"
            },
            "source": [
                "### Step 2: Assemble and Explore Data"
            ]
        },
        {
            "cell_type": "code",
            "execution_count": null,
            "metadata": {
                "azdata_cell_guid": "cc6087b5-7d4a-4f3d-b8e0-a1c8aaab3ae3",
                "id": "JWtAqDRdiZS-",
                "language": "sql",
                "vscode": {
                    "languageId": "sql"
                }
            },
            "outputs": [],
            "source": [
                "dataset = pd.read_csv(\"customer_intent_raw.csv\")"
            ]
        },
        {
            "cell_type": "code",
            "execution_count": null,
            "metadata": {
                "azdata_cell_guid": "0c547dbd-1299-4248-8fbe-cba1bbed6e97",
                "colab": {
                    "base_uri": "https://localhost:8080/",
                    "height": 206
                },
                "id": "u2Ywm4EGikOs",
                "language": "sql",
                "outputId": "94229e18-6d89-4ffd-98f9-2a1557fbbd86",
                "vscode": {
                    "languageId": "sql"
                }
            },
            "outputs": [],
            "source": [
                "dataset.head()"
            ]
        },
        {
            "cell_type": "code",
            "execution_count": null,
            "metadata": {
                "azdata_cell_guid": "1bcbb9a1-a962-4bde-b424-e4b15ee495fe",
                "colab": {
                    "base_uri": "https://localhost:8080/"
                },
                "id": "h7fwJzUKd8cX",
                "language": "sql",
                "outputId": "19ca73f2-ae7c-4b26-b289-6469aababe54",
                "vscode": {
                    "languageId": "sql"
                }
            },
            "outputs": [],
            "source": [
                "dataset.shape"
            ]
        },
        {
            "cell_type": "markdown",
            "metadata": {
                "azdata_cell_guid": "53040233-99be-4dd4-9cbd-9fa93a2c9b6c",
                "id": "yW0MRthfal3-"
            },
            "source": [
                "We are given an unlabeled dataset. First, let's try to understand what sort of problems are present in the data and which of them are most frequent using an LLM."
            ]
        },
        {
            "cell_type": "markdown",
            "metadata": {
                "azdata_cell_guid": "ac4e6f28-169a-4faf-8386-67da97e5a0a8",
                "id": "NUwCKi5FbWRQ"
            },
            "source": [
                "Let's concatenate all the responses into one string and then pass it to the LLM and ask it to provide us this preliminary analysis."
            ]
        },
        {
            "cell_type": "code",
            "execution_count": null,
            "metadata": {
                "azdata_cell_guid": "f1472585-17f9-42ed-a1ae-61b8815ae57c",
                "id": "BHLpnzbxbhfE",
                "language": "sql",
                "vscode": {
                    "languageId": "sql"
                }
            },
            "outputs": [],
            "source": [
                "raw_intent = dataset['description'].str.cat(sep=' || ')"
            ]
        },
        {
            "cell_type": "code",
            "execution_count": null,
            "metadata": {
                "azdata_cell_guid": "3d1c00cb-0bfa-43bf-894a-d5bf697839eb",
                "colab": {
                    "base_uri": "https://localhost:8080/",
                    "height": 140
                },
                "id": "iEo8lBXsc2JE",
                "language": "sql",
                "outputId": "534d3015-d000-44d3-9236-5ce2988ff871",
                "vscode": {
                    "languageId": "sql"
                }
            },
            "outputs": [],
            "source": [
                "raw_intent"
            ]
        },
        {
            "cell_type": "markdown",
            "metadata": {
                "azdata_cell_guid": "1528dca9-887a-4e55-a4d9-0bd96719b331",
                "id": "M5srXGNWb6v5"
            },
            "source": [
                "Let us now craft a prompt."
            ]
        },
        {
            "cell_type": "code",
            "execution_count": null,
            "metadata": {
                "azdata_cell_guid": "f87df832-9bb0-44d7-a8e0-61b5d8d57654",
                "id": "Hgfkh6CrdUMC",
                "language": "sql",
                "vscode": {
                    "languageId": "sql"
                }
            },
            "outputs": [],
            "source": [
                "prompt = f\"\"\"Extract the list of problems faced by the user from the following customer queries, separated by \" || \". A problem category should be a two word label. List out 10 unique problems\n",
                "Then, identify the top 5 most frequent problem encountered by the user.\n",
                "\n",
                "Customer queries:\n",
                "{raw_intent}\"\"\""
            ]
        },
        {
            "cell_type": "code",
            "execution_count": null,
            "metadata": {
                "azdata_cell_guid": "e8e14e8d-caeb-4a61-a4fa-4771a83861b9",
                "id": "oRP_OrxJduG1",
                "language": "sql",
                "vscode": {
                    "languageId": "sql"
                }
            },
            "outputs": [],
            "source": [
                "messages = [{'role':'user','content':prompt}]"
            ]
        },
        {
            "cell_type": "code",
            "execution_count": null,
            "metadata": {
                "azdata_cell_guid": "382b4c38-e8ec-4c86-a0f8-7d3b5b783d30",
                "colab": {
                    "base_uri": "https://localhost:8080/"
                },
                "id": "255GvuV3alEt",
                "language": "sql",
                "outputId": "ef34f7a3-f5be-4133-d992-f157aacd8147",
                "vscode": {
                    "languageId": "sql"
                }
            },
            "outputs": [],
            "source": [
                "response = client.chat.completions.create(\n",
                "    model=deployment_name,\n",
                "    messages=messages,\n",
                "    temperature = 0,\n",
                "    seed = 49\n",
                ")\n",
                "\n",
                "print(response.choices[0].message.content)"
            ]
        },
        {
            "cell_type": "markdown",
            "metadata": {
                "azdata_cell_guid": "db0a95bd-712c-4fbc-9a4f-12c9f8719da0",
                "id": "exBh5iTG0Eb7"
            },
            "source": [
                "The response from the LLM will vary every time we re-generate it. Since we are doing an unsupervised task and since the LLM has no concrete idea about the problem beforehand, it is expected that there will be some variance. We can iterate over this multiple times and check the outputs each times to figure out the most consistent responses. By doing that, we have a higher chance of actually finding out which of the labels is most frequent. Ideally this should be done on the whole data corpus. Each time sampling a different subset (so that we can fit the context length of the LLM). But in this case-study, we do not have the whole datset (thousands of customer queries). Hence, we don't need to sample the dataset. Instead, we can run the LLM through the data multiple times and find out the most frequent query category (most probably)."
            ]
        },
        {
            "cell_type": "markdown",
            "metadata": {
                "azdata_cell_guid": "f077181d-b86c-4469-beb1-aa621964af63",
                "id": "p2HznbCpeup0"
            },
            "source": [
                "You are encouraged to re-run the above cell multiple times (4-5) to check which are the most consistent labels. Find 2-3 labels that are most consistent in those runs. From our runs, we found the following labels consistent - Modifying order(change order), track order, payment issues, account related issues. Of these three labels, modifying orders, payment issues and lastly track order are the most important ones to fix as they are directly related to revenue. Account related issues is a second priority. Let's look at change order, track oder and payment issues can be further investigated at large scale to understand which of these three is most problematic.\n",
                "\n",
                "The whole classification task would have been a bigger project than actually correcting the three issues if it weren't for LLMs. The NLP classification itself would have taken multiple weeks. However, with LLMs, the whole task can be done within a week."
            ]
        },
        {
            "cell_type": "markdown",
            "metadata": {
                "azdata_cell_guid": "d717501a-8779-42b6-96e4-b795c5421c6c",
                "id": "lBB2Q_TneJPc"
            },
            "source": [
                "Using this preliminary exploration, a labeling team has been setup to categorize a sample of the data into the following categories - 'track order', 'change order', 'payment issues', and 'others'."
            ]
        },
        {
            "cell_type": "markdown",
            "metadata": {
                "azdata_cell_guid": "445ae552-e815-4247-8699-2edccd9b3a19",
                "id": "NsVHJ5A_unK9"
            },
            "source": [
                "Note: We recommend you use the labeled data provided even if your analysis has resulted in a different set of frequent categories (it is a rare chance). Since we have a synthetic data on our hands currently, and since the dataset is rather small, we have to make such choices."
            ]
        },
        {
            "cell_type": "markdown",
            "metadata": {
                "azdata_cell_guid": "d1dcd78d-c176-42e5-b1a6-651c8137a37a",
                "id": "7d33cYejtsFS"
            },
            "source": [
                "Let's import the labeled data."
            ]
        },
        {
            "cell_type": "code",
            "execution_count": null,
            "metadata": {
                "azdata_cell_guid": "1e974aa5-82f6-4a65-926f-814b2507b06a",
                "id": "D-oEU6RSeMil",
                "language": "sql",
                "vscode": {
                    "languageId": "sql"
                }
            },
            "outputs": [],
            "source": [
                "dataset_df = pd.read_csv(\"customer_intent_labeled.csv\")"
            ]
        },
        {
            "cell_type": "code",
            "execution_count": null,
            "metadata": {
                "azdata_cell_guid": "c7e155f0-bf88-4fb5-b038-0073e2f4a6c7",
                "colab": {
                    "base_uri": "https://localhost:8080/"
                },
                "id": "Df4YwD7WeXLU",
                "language": "sql",
                "outputId": "af6400d6-f421-44a4-912d-592e469e3f57",
                "vscode": {
                    "languageId": "sql"
                }
            },
            "outputs": [],
            "source": [
                "dataset_df.task.unique()"
            ]
        },
        {
            "cell_type": "markdown",
            "metadata": {
                "azdata_cell_guid": "ec514846-db64-4875-b700-6e765a2de251",
                "id": "QH0UiBqD_riw"
            },
            "source": [
                "Let's check the different categories of customer inquiries."
            ]
        },
        {
            "cell_type": "code",
            "execution_count": null,
            "metadata": {
                "azdata_cell_guid": "b4b02e0b-379b-443c-a3b1-b4c43c479f70",
                "id": "t9Qh5qHYaxG_",
                "language": "sql",
                "vscode": {
                    "languageId": "sql"
                }
            },
            "outputs": [],
            "source": [
                "examples_df, gold_examples_df = train_test_split(\n",
                "    dataset_df, #<- the full dataset\n",
                "    test_size=0.6, #<- 60% random sample selected for gold examples as we will only need few examples for few-shot\n",
                "    random_state=42 #<- ensures that the splits are the same for every session\n",
                ")"
            ]
        },
        {
            "cell_type": "markdown",
            "metadata": {
                "azdata_cell_guid": "839abe56-b2f9-4703-a0de-49905a85506a",
                "id": "0OBQrTPk2JHH"
            },
            "source": [
                "Let's have a feel of the data before we move forward."
            ]
        },
        {
            "cell_type": "code",
            "execution_count": null,
            "metadata": {
                "azdata_cell_guid": "f4ab89db-40dd-4eb8-a4a6-94e1b46363a1",
                "colab": {
                    "base_uri": "https://localhost:8080/",
                    "height": 363
                },
                "id": "7mWJSPJ5_rWk",
                "language": "sql",
                "outputId": "43f40ca7-5418-4312-dac1-3d11813581b8",
                "vscode": {
                    "languageId": "sql"
                }
            },
            "outputs": [],
            "source": [
                "examples_df.sample(10)"
            ]
        },
        {
            "cell_type": "code",
            "execution_count": null,
            "metadata": {
                "azdata_cell_guid": "92cce40b-77b5-4349-ab28-776636b8828f",
                "id": "m1Z5EjrzLz6b",
                "language": "sql",
                "vscode": {
                    "languageId": "sql"
                }
            },
            "outputs": [],
            "source": [
                "gold_examples = json.loads((gold_examples_df.sample(100, random_state=42).to_json(orient='records')\n",
                "))"
            ]
        },
        {
            "cell_type": "markdown",
            "metadata": {
                "azdata_cell_guid": "f2e2742d-daaf-4ca0-91a7-332fdd6b724f",
                "id": "OCTPfG6iJr1L"
            },
            "source": [
                "Let's derive prompts for this scenario."
            ]
        },
        {
            "cell_type": "markdown",
            "metadata": {
                "azdata_cell_guid": "12315b85-d587-4e59-8cdd-241fc13a018f",
                "id": "b0u9bqrrDutk"
            },
            "source": [
                "### Step 3: Derive Prompt"
            ]
        },
        {
            "cell_type": "markdown",
            "metadata": {
                "azdata_cell_guid": "f132e9f3-db61-4b28-8ccf-c7ec6b2295f9",
                "id": "sunRoyDMMbBu"
            },
            "source": [
                "#### Create prompts"
            ]
        },
        {
            "cell_type": "code",
            "execution_count": null,
            "metadata": {
                "azdata_cell_guid": "46065eaa-1b4a-4e56-af57-423fe75e2dcc",
                "id": "Kx-5s0g_LZKM",
                "language": "sql",
                "vscode": {
                    "languageId": "sql"
                }
            },
            "outputs": [],
            "source": [
                "user_message_template = \"\"\"```{description}```\"\"\""
            ]
        },
        {
            "cell_type": "markdown",
            "metadata": {
                "azdata_cell_guid": "9d22fc8f-5fd2-49f8-9705-8599124e21ab",
                "id": "GjvavZ2moPkm"
            },
            "source": [
                "**Zero-shot prompt**"
            ]
        },
        {
            "cell_type": "markdown",
            "metadata": {
                "azdata_cell_guid": "40c740c1-d344-4db9-89a1-54e68fdfe60c",
                "id": "JtbYpD84g4Ff"
            },
            "source": [
                "Let's craft our zero-shot such that the model doesn't respond with an explanation or output a new label that's not one of our pre-determined labels."
            ]
        },
        {
            "cell_type": "code",
            "execution_count": null,
            "metadata": {
                "azdata_cell_guid": "4deceb27-0495-47e9-ad5e-6a642544cb6f",
                "id": "wKW9dlJuEewo",
                "language": "sql",
                "vscode": {
                    "languageId": "sql"
                }
            },
            "outputs": [],
            "source": [
                "zero_shot_system_message = \"\"\"Classify the following product desciption presented in the input into one of the following categories.\n",
                "Categories - ['change order', 'track order', 'payment issue', 'others']\n",
                "Product description will be delimited by triple backticks in the input.\n",
                "Answer only 'change order',\n",
                " or 'track order', or 'payment issue',or 'others'. Nothing Else. Do not explain your answer.\n",
                "\"\"\""
            ]
        },
        {
            "cell_type": "code",
            "execution_count": null,
            "metadata": {
                "azdata_cell_guid": "f818818c-30d8-4b7a-b8e3-846a112b5b96",
                "id": "_5SIubZXLhwM",
                "language": "sql",
                "vscode": {
                    "languageId": "sql"
                }
            },
            "outputs": [],
            "source": [
                "zero_shot_prompt = [{'role':'system', 'content': zero_shot_system_message}]"
            ]
        },
        {
            "cell_type": "code",
            "execution_count": null,
            "metadata": {
                "azdata_cell_guid": "2e6eee8f-3643-4318-ad7d-cb9b9acd2e25",
                "colab": {
                    "base_uri": "https://localhost:8080/"
                },
                "id": "91PlM6xILifx",
                "language": "sql",
                "outputId": "82319adb-daf6-4a22-fdbf-e1dadfc1cbba",
                "vscode": {
                    "languageId": "sql"
                }
            },
            "outputs": [],
            "source": [
                "num_tokens_from_messages(zero_shot_prompt)"
            ]
        },
        {
            "cell_type": "markdown",
            "metadata": {
                "azdata_cell_guid": "3bf126cd-6b9d-40ba-ae8c-7637d89d6a58",
                "id": "3Ar7GVoYoXWz"
            },
            "source": [
                "**Few-shot prompt**"
            ]
        },
        {
            "cell_type": "markdown",
            "metadata": {
                "azdata_cell_guid": "36e43097-2ed1-46c7-9b89-a56452d1f522",
                "id": "XQ8_s8Ng1_nC"
            },
            "source": [
                "Let's also create a few-shot prompt. We can evaluate both zero-shot and few-shot at the same time later."
            ]
        },
        {
            "cell_type": "code",
            "execution_count": null,
            "metadata": {
                "azdata_cell_guid": "711c24a4-955d-4f80-aa5b-7de43517e2cf",
                "id": "Nw06_SbIoagf",
                "language": "sql",
                "vscode": {
                    "languageId": "sql"
                }
            },
            "outputs": [],
            "source": [
                "few_shot_system_message = \"\"\"Classify the following product desciption presented in the input into one of the following categories.\n",
                "Categories - ['change order', 'track order', 'payment issue']\n",
                "Product description will be delimited by triple backticks in the input.\n",
                "Answer only 'change order', or 'track order', or 'payment issue'. Nothing Else. Do not explain your answer.\n",
                "\"\"\""
            ]
        },
        {
            "cell_type": "code",
            "execution_count": null,
            "metadata": {
                "azdata_cell_guid": "9ca48c19-72ec-48e3-ab92-e173b591ea44",
                "id": "u7vL5Unzomo_",
                "language": "sql",
                "vscode": {
                    "languageId": "sql"
                }
            },
            "outputs": [],
            "source": [
                "def create_examples(dataset, n=4):\n",
                "\n",
                "    \"\"\"\n",
                "    Return a JSON list of randomized examples of size 2n with two classes.\n",
                "    Create subsets of each class, choose random samples from the subsets,\n",
                "    merge and randomize the order of samples in the merged list.\n",
                "    Each run of this function creates a different random sample of examples\n",
                "    chosen from the training data.\n",
                "\n",
                "    Args:\n",
                "        dataset (DataFrame): A DataFrame with examples (text + label)\n",
                "        n (int): number of examples of each class to be selected\n",
                "\n",
                "    Output:\n",
                "        randomized_examples (JSON): A JSON with examples in random order\n",
                "    \"\"\"\n",
                "\n",
                "    task1 = (examples_df.task == 'change order')\n",
                "    task2 = (examples_df.task == 'track order')\n",
                "    task3 = (examples_df.task == 'payment issue')\n",
                "    task4 = (examples_df.task == 'others')\n",
                "\n",
                "    t1_examples = examples_df.loc[task1, :].sample(n)\n",
                "    t2_examples = examples_df.loc[task2, :].sample(n)\n",
                "    t3_examples = examples_df.loc[task3, :].sample(n)\n",
                "    t4_examples = examples_df.loc[task4, :].sample(n)\n",
                "    examples = pd.concat([t1_examples,t2_examples,t3_examples,t4_examples])\n",
                "    # sampling without replacement is equivalent to random shuffling\n",
                "    randomized_examples = examples.sample(4*n, replace=False)\n",
                "\n",
                "    return randomized_examples.to_json(orient='records')"
            ]
        },
        {
            "cell_type": "code",
            "execution_count": null,
            "metadata": {
                "azdata_cell_guid": "1842634c-a2ab-4c7b-a772-68e38a41f05d",
                "id": "jMsCe7VYqKM1",
                "language": "sql",
                "vscode": {
                    "languageId": "sql"
                }
            },
            "outputs": [],
            "source": [
                "def create_prompt(system_message, examples, user_message_template):\n",
                "\n",
                "    \"\"\"\n",
                "    Return a prompt message in the format expected by the Open AI API.\n",
                "    Loop through the examples and parse them as user message and assistant\n",
                "    message.\n",
                "\n",
                "    Args:\n",
                "        system_message (str): Instructions for the model for classfication\n",
                "        examples (JSON): JSON list of examples representative of each category\n",
                "        user_message_template (str): string with a placeholder for query\n",
                "\n",
                "    Output:\n",
                "        few_shot_prompt (List): A list of dictionaries in the Open AI prompt format\n",
                "    \"\"\"\n",
                "\n",
                "    few_shot_prompt = [{'role':'system', 'content': system_message}]\n",
                "\n",
                "    for example in json.loads(examples):\n",
                "\n",
                "        few_shot_prompt.append(\n",
                "            {\n",
                "                'role': 'user',\n",
                "                'content': user_message_template.format(\n",
                "                    description=example['description']\n",
                "                )\n",
                "            }\n",
                "        )\n",
                "\n",
                "        few_shot_prompt.append(\n",
                "            {'role': 'assistant', 'content': f\"{example['task']}\"}\n",
                "        )\n",
                "\n",
                "    return few_shot_prompt"
            ]
        },
        {
            "cell_type": "code",
            "execution_count": null,
            "metadata": {
                "azdata_cell_guid": "580a2ce8-8c92-4e56-a33a-9e7fe123e758",
                "id": "8X4wsf5VqqOg",
                "language": "sql",
                "vscode": {
                    "languageId": "sql"
                }
            },
            "outputs": [],
            "source": [
                "examples = create_examples(examples_df,2)\n",
                "gold_examples = create_examples(gold_examples_df,10)\n",
                "few_shot_prompt = create_prompt(few_shot_system_message, examples, user_message_template)"
            ]
        },
        {
            "cell_type": "code",
            "execution_count": null,
            "metadata": {
                "azdata_cell_guid": "677f89a4-4f11-4db2-9942-33f6561a1775",
                "colab": {
                    "base_uri": "https://localhost:8080/"
                },
                "id": "MkbMhgUqiSlt",
                "language": "sql",
                "outputId": "52840c68-2672-4b31-eaa2-3c68c41ab8b5",
                "vscode": {
                    "languageId": "sql"
                }
            },
            "outputs": [],
            "source": [
                "json.loads(gold_examples)[0]"
            ]
        },
        {
            "cell_type": "markdown",
            "metadata": {
                "azdata_cell_guid": "6aac0738-68e1-46f7-9aaa-b232b20da691",
                "id": "Q8NRyBTUxRPL"
            },
            "source": [
                "Let's check the few shot prompt."
            ]
        },
        {
            "cell_type": "code",
            "execution_count": null,
            "metadata": {
                "azdata_cell_guid": "900715de-22eb-4a9c-846e-14e7fe62175f",
                "colab": {
                    "base_uri": "https://localhost:8080/"
                },
                "id": "YREwWcXWWkZa",
                "language": "sql",
                "outputId": "bc21f654-059f-407f-8c94-555557b053e7",
                "vscode": {
                    "languageId": "sql"
                }
            },
            "outputs": [],
            "source": [
                "few_shot_prompt"
            ]
        },
        {
            "cell_type": "markdown",
            "metadata": {
                "azdata_cell_guid": "446d35d9-39b1-4609-a62b-e5a29ad4fe9d",
                "id": "zaOqdj8hMmnZ"
            },
            "source": [
                "#### Evaluate prompts"
            ]
        },
        {
            "cell_type": "markdown",
            "metadata": {
                "azdata_cell_guid": "9589bfbc-cf84-40cf-b6b9-9e98a2421b5b",
                "id": "fEMKfieozF0P"
            },
            "source": [
                "Let's evaluate our zero-shot and few-shot prompts."
            ]
        },
        {
            "cell_type": "code",
            "execution_count": null,
            "metadata": {
                "azdata_cell_guid": "0f6cfdfc-f3d0-4987-b7d3-4db52ed736bd",
                "id": "1ZOXJpIGMoc-",
                "language": "sql",
                "vscode": {
                    "languageId": "sql"
                }
            },
            "outputs": [],
            "source": [
                "def evaluate_prompt(prompt, gold_examples, user_message_template, samples_to_output = 10):\n",
                "\n",
                "    \"\"\"\n",
                "    Return the accuracy for predictions on gold examples.\n",
                "    For each example, we make a prediction using the prompt. Gold labels and\n",
                "    model predictions are aggregated into lists and compared to compute the\n",
                "    accuracy.\n",
                "\n",
                "    Args:\n",
                "        prompt (List): list of messages in the Open AI prompt format\n",
                "        gold_examples (str): JSON string with list of gold examples\n",
                "        user_message_template (str): string with a placeholder for description\n",
                "        samples_to_output (int): number of sample predictions and ground truths to print\n",
                "\n",
                "    Output:\n",
                "        accuracy (float): accuracy score computed by comparing model predictions\n",
                "                                with ground truth\n",
                "    \"\"\"\n",
                "    count = 0\n",
                "    model_predictions, ground_truths = [], []\n",
                "\n",
                "    # Iterating through all the gold examples and constructing the messages dictionary using the text from example\n",
                "\n",
                "    for example in json.loads(gold_examples):\n",
                "        gold_input = example['description']\n",
                "        user_input = [\n",
                "            {\n",
                "                'role':'user',\n",
                "                'content': user_message_template.format(description=gold_input)\n",
                "            }\n",
                "        ]\n",
                "\n",
                "        try:\n",
                "            response = client.chat.completions.create(\n",
                "                model=deployment_name,\n",
                "                messages=prompt+user_input,\n",
                "                temperature=0, # <- Note the low temperature\n",
                "                max_tokens=4 # <- Note how we restrict the output to not more than 2 tokens\n",
                "            )\n",
                "\n",
                "            prediction = response.choices[0].message.content\n",
                "            model_predictions.append(prediction.strip().lower()) # <- removes extraneous white space and lowercases output\n",
                "            ground_truths.append(example['task'].strip().lower())\n",
                "\n",
                "            if count < samples_to_output:\n",
                "              count += 1\n",
                "              print(\"Original label: \\n\", example['task'],\"\\n\")\n",
                "              print(\"Predicted label: \\n\", prediction)\n",
                "              print(\"================================\")\n",
                "\n",
                "        except Exception as e:\n",
                "            print(e)\n",
                "            continue\n",
                "\n",
                "\n",
                "    accuracy = accuracy_score(ground_truths, model_predictions)\n",
                "\n",
                "    return accuracy"
            ]
        },
        {
            "cell_type": "code",
            "execution_count": null,
            "metadata": {
                "azdata_cell_guid": "ac121089-bfae-45c7-943e-49d7109c482c",
                "colab": {
                    "base_uri": "https://localhost:8080/"
                },
                "id": "Ehpfuk8ZN0ed",
                "language": "sql",
                "outputId": "d51b26f7-be4a-4b30-d508-d9bb76fd7054",
                "vscode": {
                    "languageId": "sql"
                }
            },
            "outputs": [],
            "source": [
                "evaluate_prompt(zero_shot_prompt, gold_examples, user_message_template)"
            ]
        },
        {
            "cell_type": "code",
            "execution_count": null,
            "metadata": {
                "azdata_cell_guid": "f180ab50-e031-45d0-9839-d12b804404fc",
                "colab": {
                    "base_uri": "https://localhost:8080/"
                },
                "id": "Hxli5e04rNaM",
                "language": "sql",
                "outputId": "b4d1b9d8-8df0-4574-a4cd-b27546b485fd",
                "vscode": {
                    "languageId": "sql"
                }
            },
            "outputs": [],
            "source": [
                "evaluate_prompt(few_shot_prompt, gold_examples, user_message_template)"
            ]
        },
        {
            "cell_type": "markdown",
            "metadata": {
                "azdata_cell_guid": "15f577df-b075-4943-a69c-7030608a1e05",
                "id": "g3iYvr8ZKH4b"
            },
            "source": [
                "That is a good result! Let's see if it is consistent across multiple samples."
            ]
        },
        {
            "cell_type": "code",
            "execution_count": null,
            "metadata": {
                "azdata_cell_guid": "617b77a5-cd2c-4548-9cb8-5fd7e668dd1f",
                "id": "SB2aVW4ht80U",
                "language": "sql",
                "vscode": {
                    "languageId": "sql"
                }
            },
            "outputs": [],
            "source": [
                "num_eval_runs = 5"
            ]
        },
        {
            "cell_type": "code",
            "execution_count": null,
            "metadata": {
                "azdata_cell_guid": "79ee80db-5212-45de-8766-a2e2e823aad9",
                "id": "dhwA3hMlt80f",
                "language": "sql",
                "vscode": {
                    "languageId": "sql"
                }
            },
            "outputs": [],
            "source": [
                "few_shot_performance = []"
            ]
        },
        {
            "cell_type": "markdown",
            "metadata": {
                "azdata_cell_guid": "326d78b7-2ede-4478-9c80-dcaffa5b2144",
                "id": "1q-wlEuOzsV1"
            },
            "source": [
                "Let's modify the original evaluate function in such a way that it prints the accuracy for every ground truth label and the overall accuracy for every round of evaluation."
            ]
        },
        {
            "cell_type": "code",
            "execution_count": null,
            "metadata": {
                "azdata_cell_guid": "d91d52b5-b9d8-4f9f-9502-351d24065cdb",
                "id": "N5aoIO1_zGh_",
                "language": "sql",
                "vscode": {
                    "languageId": "sql"
                }
            },
            "outputs": [],
            "source": [
                "def evaluate_prompt(prompt, gold_examples, user_message_template,samples_to_output = 10):\n",
                "\n",
                "    \"\"\"\n",
                "    Return the accuracy score for predictions on gold examples.\n",
                "    For each example, we make a prediction using the prompt. Gold labels and\n",
                "    model predictions are aggregated into lists and compared to compute the\n",
                "    accuracy.\n",
                "\n",
                "    Args:\n",
                "        prompt (List): list of messages in the Open AI prompt format\n",
                "        gold_examples (str): JSON string with list of gold examples\n",
                "        user_message_template (str): string with a placeholder for description.\n",
                "        samples_to_output (int): number of sample predictions and ground truths to print\n",
                "\n",
                "    Output:\n",
                "        accuracy (float): accuracy score computed by comparing model predictions\n",
                "                                with ground truth\n",
                "    \"\"\"\n",
                "    count = 0\n",
                "    model_predictions, ground_truths = [], []\n",
                "\n",
                "    # Iterating through all the gold examples and constructing the messages dictionary using the text from example\n",
                "\n",
                "    for example in json.loads(gold_examples):\n",
                "        gold_input = example['description']\n",
                "        user_input = [\n",
                "            {\n",
                "                'role':'user',\n",
                "                'content': user_message_template.format(description=gold_input)\n",
                "            }\n",
                "        ]\n",
                "\n",
                "        try:\n",
                "            response = client.chat.completions.create(\n",
                "                model=deployment_name,\n",
                "                messages=prompt+user_input,\n",
                "                temperature=0, # <- Note the low temperature\n",
                "                max_tokens=4 # <- Note how we restrict the output to not more than 2 tokens\n",
                "            )\n",
                "\n",
                "            prediction = response.choices[0].message.content\n",
                "            while count < samples_to_output:\n",
                "              count += 1\n",
                "              print(\"Original label: \\n\", example['task'],\"\\n\")\n",
                "              print(\"Predicted label: \\n\", prediction)\n",
                "\n",
                "\n",
                "            model_predictions.append(prediction.strip().lower()) # <- removes extraneous white space and lowercases output\n",
                "            ground_truths.append(example['task'].strip().lower())\n",
                "\n",
                "        except Exception as e:\n",
                "            print(e)\n",
                "            continue\n",
                "\n",
                "\n",
                "    # Find the accuracy of each category.\n",
                "\n",
                "    df = pd.DataFrame({\n",
                "    'Predictions': model_predictions,\n",
                "    'Ground Truth': ground_truths\n",
                "    })\n",
                "    labels = df['Ground Truth'].unique()\n",
                "\n",
                "    # Create a new DataFrame for the accuracies\n",
                "    accuracy_df = pd.DataFrame(columns=labels)\n",
                "\n",
                "    for label in labels:\n",
                "        # Filter rows where Ground Truth is the current label\n",
                "        subset = df[df['Ground Truth'] == label]\n",
                "\n",
                "        # Calculate accuracy for the current label\n",
                "        accuracy = accuracy_score(subset['Ground Truth'], subset['Predictions'])\n",
                "\n",
                "        # Add accuracy to the DataFrame\n",
                "        accuracy_df.loc[0, label] = accuracy\n",
                "\n",
                "    print(\"\\n\\n\", accuracy_df)\n",
                "    print(\"====================================================\")\n",
                "\n",
                "    accuracy = accuracy_score(ground_truths, model_predictions)\n",
                "\n",
                "    return accuracy"
            ]
        },
        {
            "cell_type": "code",
            "execution_count": null,
            "metadata": {
                "azdata_cell_guid": "2397fc17-a87c-4ec6-a815-52403dcf5085",
                "colab": {
                    "base_uri": "https://localhost:8080/"
                },
                "id": "GAbDg7tRt80f",
                "language": "sql",
                "outputId": "dacfc4ed-01b0-47d3-e599-4079fb521c1e",
                "vscode": {
                    "languageId": "sql"
                }
            },
            "outputs": [],
            "source": [
                "for _ in tqdm(range(num_eval_runs)):\n",
                "\n",
                "    # For each run create a new sample of examples\n",
                "    examples = create_examples(dataset_df)\n",
                "\n",
                "    # Assemble the few shot prompt with these examples\n",
                "    few_shot_prompt = create_prompt(few_shot_system_message, examples, user_message_template)\n",
                "\n",
                "    # Evaluate prompt accuracy on gold examples\n",
                "    few_shot_accuracy = evaluate_prompt(few_shot_prompt, gold_examples, user_message_template)\n",
                "\n",
                "    few_shot_performance.append(few_shot_accuracy)\n"
            ]
        },
        {
            "cell_type": "markdown",
            "metadata": {
                "azdata_cell_guid": "7d9e8c9a-daa1-4b56-a52b-c3f1c8790962",
                "id": "xKAufBsy_Dhw"
            },
            "source": [
                "Let's check the average accuracy across runs"
            ]
        },
        {
            "cell_type": "code",
            "execution_count": null,
            "metadata": {
                "azdata_cell_guid": "cc5eb043-8d77-47bb-a8d7-164abe8a8441",
                "colab": {
                    "base_uri": "https://localhost:8080/"
                },
                "id": "0ti6Y2kAt80f",
                "language": "sql",
                "outputId": "c91bb2f6-f10d-4088-b204-5b34332c362c",
                "vscode": {
                    "languageId": "sql"
                }
            },
            "outputs": [],
            "source": [
                "np.array(few_shot_performance).mean(), np.array(few_shot_performance).std()"
            ]
        },
        {
            "cell_type": "markdown",
            "metadata": {
                "azdata_cell_guid": "04f9d712-ff4d-4d4d-8352-f2c02581e315",
                "id": "cuBvJYn2meJa"
            },
            "source": [
                "We got a good result with few-shot technique across multiple samples."
            ]
        },
        {
            "cell_type": "markdown",
            "metadata": {
                "azdata_cell_guid": "71d39129-52db-4acd-960d-ff49511db393",
                "id": "XUSpbECim02x"
            },
            "source": [
                "We can observe that most of the mislabeling is happening the specific case where the original label was others and then the LLM instead of placing it in others is misclassifying it into the other categories. Majority of the inaccuracy is thus from this case. This particular case is not that troubling for the business. The opposite of this, which is classifying a label that is not labelled as others into others will mean that an important issue has been mislabeled into a non-major label."
            ]
        },
        {
            "cell_type": "markdown",
            "metadata": {
                "azdata_cell_guid": "755951d2-711c-4887-8f51-25475d27803b",
                "id": "gOspY85t1UZ1"
            },
            "source": [
                "We can also manually check these missed cases to analyze this further."
            ]
        },
        {
            "cell_type": "markdown",
            "metadata": {
                "azdata_cell_guid": "5134d941-7087-4177-b5d6-f7e64e184bc6",
                "id": "v7IDjb6a1ja2"
            },
            "source": [
                "Let's modify the evaluate prompt so that it prints the query along with the ground truth label and prediction. This will help us see where the LLM is getting it wrong."
            ]
        },
        {
            "cell_type": "code",
            "execution_count": null,
            "metadata": {
                "azdata_cell_guid": "42fa88e3-4993-415c-8cec-77d887f19ae6",
                "id": "N8x89Ovv1fP_",
                "language": "sql",
                "vscode": {
                    "languageId": "sql"
                }
            },
            "outputs": [],
            "source": [
                "def evaluate_prompt(prompt, gold_examples, user_message_template,samples_to_output = 10):\n",
                "\n",
                "    \"\"\"\n",
                "    Return the accuracy score for predictions on gold examples.\n",
                "    For each example, we make a prediction using the prompt. Gold labels and\n",
                "    model predictions are aggregated into lists and compared to compute the\n",
                "    accuracy.\n",
                "\n",
                "    Args:\n",
                "        prompt (List): list of messages in the Open AI prompt format\n",
                "        gold_examples (str): JSON string with list of gold examples\n",
                "        user_message_template (str): string with a placeholder for description\n",
                "        samples_to_output (int): number of sample predictions and ground truths to print\n",
                "\n",
                "    Output:\n",
                "        accuracy (float): accuracy score computed by comparing model predictions\n",
                "                                with ground truth\n",
                "    \"\"\"\n",
                "    count = 0\n",
                "    model_predictions, ground_truths = [], []\n",
                "\n",
                "    # Iterating through all the gold examples and constructing the messages dictionary using the text from example\n",
                "\n",
                "    for example in json.loads(gold_examples):\n",
                "        gold_input = example['description']\n",
                "        user_input = [\n",
                "            {\n",
                "                'role':'user',\n",
                "                'content': user_message_template.format(description=gold_input)\n",
                "            }\n",
                "        ]\n",
                "\n",
                "        try:\n",
                "            response = client.chat.completions.create(\n",
                "                model=deployment_name,\n",
                "                messages=prompt+user_input,\n",
                "                temperature=0, # <- Note the low temperature\n",
                "                max_tokens=4 # <- Note how we restrict the output to not more than 2 tokens\n",
                "            )\n",
                "\n",
                "            prediction = response.choices[0].message.content\n",
                "            while count < samples_to_output:\n",
                "              count += 1\n",
                "              print(\"Description: \\n\", example['description'],\"\\n\")\n",
                "              print(\"Original label: \\n\", example['task'],\"\\n\")\n",
                "              print(\"Predicted label: \\n\", prediction)\n",
                "              print(\"====================================================\")\n",
                "            model_predictions.append(prediction.strip().lower()) # <- removes extraneous white space and lowercases output\n",
                "            ground_truths.append(example['task'].strip().lower())\n",
                "\n",
                "        except Exception as e:\n",
                "            print(e)\n",
                "            continue\n",
                "\n",
                "\n",
                "    # Find the accuracy of each category.\n",
                "\n",
                "    df = pd.DataFrame({\n",
                "    'Predictions': model_predictions,\n",
                "    'Ground Truth': ground_truths\n",
                "    })\n",
                "    labels = df['Ground Truth'].unique()\n",
                "\n",
                "    # Create a new DataFrame for the accuracies\n",
                "    accuracy_df = pd.DataFrame(columns=labels)\n",
                "\n",
                "    for label in labels:\n",
                "        # Filter rows where Ground Truth is the current label\n",
                "        subset = df[df['Ground Truth'] == label]\n",
                "\n",
                "        # Calculate accuracy for the current label\n",
                "        accuracy = accuracy_score(subset['Ground Truth'], subset['Predictions'])\n",
                "\n",
                "        # Add accuracy to the DataFrame\n",
                "        accuracy_df.loc[0, label] = accuracy\n",
                "\n",
                "    print(\"\\n\\n\", accuracy_df,\"\\n\\n\")\n",
                "\n",
                "    accuracy = accuracy_score(ground_truths, model_predictions)\n",
                "\n",
                "    return accuracy"
            ]
        },
        {
            "cell_type": "code",
            "execution_count": null,
            "metadata": {
                "azdata_cell_guid": "0586454e-c036-47cf-9691-61ae20c47af0",
                "colab": {
                    "base_uri": "https://localhost:8080/"
                },
                "id": "Ak47_EKf2DbD",
                "language": "sql",
                "outputId": "1d9440a8-4302-4f73-9788-266b57d61b95",
                "vscode": {
                    "languageId": "sql"
                }
            },
            "outputs": [],
            "source": [
                "evaluate_prompt(few_shot_prompt, gold_examples, user_message_template)"
            ]
        },
        {
            "cell_type": "markdown",
            "metadata": {
                "azdata_cell_guid": "bbf9492b-a2d0-4091-a1b0-42d2a6afd09c",
                "id": "O89cBSEZ2XHd"
            },
            "source": [
                "If you run this with multiple samples, you see that the mislabelling is sometimes due to mislabelling during the manual labeling process and the LLM is actually getting it right and the problem is with the manual labeling itself. In cases where it's not due to manual mislabeling, it is an edge case where the label could have gone either way. Overall our analysis shows that the LLM model is a good proxy and can be used to find the most troubling UX experience."
            ]
        },
        {
            "cell_type": "markdown",
            "metadata": {
                "azdata_cell_guid": "13207b0e-d4c5-4493-8f19-e96a2534834f",
                "id": "kqxYizhOmUgP"
            },
            "source": [
                "We can go ahead and use the model to segregate user queries. Post this step, a dashboard can be prepared to show the most frequent labels we have found. This will reveal the most frequent problem encountered by the users."
            ]
        },
        {
            "cell_type": "markdown",
            "metadata": {
                "azdata_cell_guid": "63fa6e1a-4035-488e-9ee6-7988dcf25ccb",
                "id": "mkPgcc5swb89"
            },
            "source": [
                "**Power Ahead!**"
            ]
        }
    ],
    "metadata": {
        "colab": {
            "provenance": []
        },
        "kernelspec": {
            "display_name": "base",
            "language": "python",
            "name": "python3"
        },
        "language_info": {
            "name": "python",
            "version": "3.12.3"
        }
    },
    "nbformat": 4,
    "nbformat_minor": 2
}
